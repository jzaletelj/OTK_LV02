{
 "cells": [
  {
   "cell_type": "markdown",
   "metadata": {},
   "source": [
    "# Časovna kompleksnost\n",
    "\n",
    "Pri razvoju algoritmov in novih rešitev pogosto srečamo več možnih rešitev istega problema, pri čemer želimo postaviti neke kriterije za izbiro optimalne rešitve pri podanih zahtevah. Pogosto vključimo kriterij vpliva izbrane rešitve na naš sistem v smislu:\n",
    "* koliko spomina zahteva algoritem za delovanje?\n",
    "* koliko računskih operacij potrebuje za rešitev,\n",
    "* koliko časa traja izvajanje (v sekundah ali ciklih procesorja). \n",
    "\n",
    "Običajno nobena rešitev ali algoritem ne deluje optimalno po vseh teh kriterijih, saj bo hitrejši algoritem navadno potreboval več sistemskih resursov ali ciklov procesorja. \n",
    "\n",
    "Pri nalogi se bomo osredotočili na merjenje časa, potrebnega za izvajanje različnih algoritmov sortiranja podatkov. \n",
    "\n",
    "\n",
    "## Naloga\n",
    "\n",
    "Testiramo in primerjamo delovanje različnih algoritmov sortiranja števil od najmanjšega do največjega. Pri tem imamo več scenarijev, glede na vhodne podatke:\n",
    "* **optimalni**, v tem primeru so števila že urejena v želenem vrstnem redu\n",
    "* **najslabši**, podatki so urejeni v obratnem vrstnem redu kot želimo\n",
    "* **normalni**, podatki so urejeni naključno.\n",
    "\n"
   ]
  },
  {
   "cell_type": "code",
   "execution_count": 7,
   "metadata": {
    "pycharm": {
     "is_executing": false
    }
   },
   "outputs": [],
   "source": [
    "import timeit as t\n",
    "import numpy as np\n",
    "import matplotlib.pyplot as plt\n",
    "#### %matplotlib notebook\n",
    "%matplotlib inline\n",
    "\n",
    "# Vrne set podatkov\n",
    "def createSet(type = None, size = 10):\n",
    "    if type == 1:  #return numbers sorted in ascening order -> best case\n",
    "        return np.linspace(0,1,size).tolist(); \n",
    "    elif type == 2: #return numbers in descending order -> wost case\n",
    "        return np.linspace(1,0,size).tolist();\n",
    "    else: #return a random assortment of numbers\n",
    "        return np.absolute(np.random.randn(size)).tolist();"
   ]
  },
  {
   "cell_type": "markdown",
   "metadata": {},
   "source": [
    "Testiraj in preveri, kakšne podatke vrača funkcija, glede na parameter (brez, 1, 2)."
   ]
  },
  {
   "cell_type": "code",
   "execution_count": 8,
   "metadata": {
    "pycharm": {
     "is_executing": false
    }
   },
   "outputs": [
    {
     "name": "stdout",
     "output_type": "stream",
     "text": [
      "[0.4985591946915055, 1.5675767079200065, 0.8762904693217457, 0.5452439015631404, 0.6861267296839509, 0.583223711332602, 1.649202908042954, 0.5575431750719401, 0.5060964742164065, 0.21082809196550287]\n"
     ]
    }
   ],
   "source": [
    "print(createSet())\n"
   ]
  },
  {
   "cell_type": "markdown",
   "metadata": {},
   "source": [
    "\n",
    "## Merjenje\n",
    "Za pravilno meritev časa izvajanja bomo uporabljali funkcijo `timeit()`, namenjeno testiranju hitrosti manjših koščkov kode. Uporablja se na naslednji način, primer:\n",
    "`t.timeit('quicksort(data)','from __main__ import data,quicksort', number = num)`\n",
    "\n",
    "Prvi niz je ukaz, ki ga merimo, nato drugi niz definira importe oziroma knjižnice, nato pa še, kolikokrat želimo izvesti ta ukaz (večkrat je bolj zanesljiva meritev časa). \n"
   ]
  },
  {
   "cell_type": "markdown",
   "metadata": {},
   "source": [
    "## Algoritmi\n",
    "Testirali bomo tri algoritme\n",
    "\n",
    "### Insertion sort\n",
    "Zelo osnovni algoritem sortiranja. Deluje s primerjavami parov števil (sosedov), in zamenja njihov vrstni red, če je prvi večji od drugega. Enostavna implementacija (dve for zanki).\n",
    "https://en.wikipedia.org/wiki/Insertion_sort\n"
   ]
  },
  {
   "cell_type": "code",
   "execution_count": 9,
   "metadata": {
    "pycharm": {
     "is_executing": false
    }
   },
   "outputs": [],
   "source": [
    "def insertionSort(array):\n",
    "    for j in range(1, len(array)):\n",
    "        key = array[j]\n",
    "        i = j - 1\n",
    "        while i >= 0 and array[i] > key:\n",
    "            array[i + 1] = array[i]\n",
    "            i = i - 1\n",
    "        array[i + 1] = key\n",
    "    return array"
   ]
  },
  {
   "cell_type": "markdown",
   "metadata": {},
   "source": [
    "### Quicksort\n",
    "\n",
    "Temelji na principu divide and conquer, kar pomeni, da postopno deli podatke v manjše in manjše skupine, dokler niso urejeni. Izbere naključni element (pivot), ter nato uredi vse ostale podatke v dve skupini, manjše in večje od tega elementa. To urejanje ponavlja rekurzivno, dokler skupina ne vsebuje samo enega elementa.  \n",
    "\n",
    "https://en.wikipedia.org/wiki/Quicksort"
   ]
  },
  {
   "cell_type": "code",
   "execution_count": 10,
   "metadata": {
    "pycharm": {
     "is_executing": false
    }
   },
   "outputs": [],
   "source": [
    "def quicksort(arr):\n",
    "    \"\"\" Quicksort a list\n",
    "\n",
    "    :type arr: list\n",
    "    :param arr: List to sort\n",
    "    :returns: list -- Sorted list\n",
    "    \"\"\"\n",
    "    if len(arr) <= 1:\n",
    "        return arr\n",
    "    else:\n",
    "        return quicksort([x for x in arr[1:] if x<arr[0]]) + [arr[0]] + quicksort([x for x in arr[1:] if x>=arr[0]])"
   ]
  },
  {
   "cell_type": "markdown",
   "metadata": {},
   "source": [
    "### Bucket sort\n",
    "Ta strategija najprej razdeli vhodne podatke v serijo \"veder\", nato pa te manjše skupine podatkov uredi s pomočjo drugega algoritma za sortiranje. Na koncu združimo vse skupine nazaj v eno urejeno množico. Potrebuje zunanji algoritem sortiranja, v našem primeru insertion sort. \n",
    "\n",
    "https://en.wikipedia.org/wiki/Bucket_sort"
   ]
  },
  {
   "cell_type": "code",
   "execution_count": 11,
   "metadata": {
    "pycharm": {
     "is_executing": false
    }
   },
   "outputs": [],
   "source": [
    "def bucketsort( A ):\n",
    "  # get hash codes\n",
    "  code = hashing( A )\n",
    "  buckets = [list() for _ in range( code[1] )]\n",
    "  # distribute data into buckets: O(n)\n",
    "  for i in A:\n",
    "    x = re_hashing( i, code )\n",
    "    buck = buckets[x]\n",
    "    buck.append( i )\n",
    " \n",
    "  # Sort each bucket: O(n).\n",
    "  # I mentioned above that the worst case for bucket sort is counting\n",
    "  # sort. That's because in the worst case, bucket sort may end up\n",
    "  # with one bucket per key. In such case, sorting each bucket would\n",
    "  # take 1^2 = O(1). Even after allowing for some probabilistic\n",
    "  # variance, to sort each bucket would still take 2-1/n, which is\n",
    "  # still a constant. Hence, sorting all the buckets takes O(n).\n",
    " \n",
    "  for bucket in buckets:\n",
    "    bucket = insertionSort( bucket )\n",
    " \n",
    "  ndx = 0\n",
    "  # merge the buckets: O(n)\n",
    "  for b in range( len( buckets ) ):\n",
    "    for v in buckets[b]:\n",
    "      A[ndx] = v\n",
    "      ndx += 1\n",
    "      \n",
    "  return A\n",
    " \n",
    "import math\n",
    " \n",
    "def hashing( A ):\n",
    "  m = A[0]\n",
    "  for i in range( 1, len( A ) ):\n",
    "    if ( m < A[i] ):\n",
    "      m = A[i]\n",
    "  result = [m, int( math.sqrt( len( A ) ) )]\n",
    "  return result\n",
    " \n",
    " \n",
    "def re_hashing( i, code ):\n",
    "  return int( i / code[0] * ( code[1] - 1 ) )\n",
    "\n"
   ]
  },
  {
   "cell_type": "code",
   "execution_count": 12,
   "metadata": {
    "pycharm": {
     "is_executing": false,
     "name": "#%%\n"
    }
   },
   "outputs": [],
   "source": [
    "# Setup styles for plotting\n",
    "\n",
    "style_list = ['default', 'classic'] + sorted(\n",
    "        style for style in plt.style.available if style != 'classic')\n",
    "plt.style.use(style_list[4])"
   ]
  },
  {
   "cell_type": "markdown",
   "metadata": {
    "pycharm": {
     "name": "#%% md\n"
    }
   },
   "source": [
    "### Evaluacija posameznega algoritma\n",
    "\n",
    "Prvi primer je evaluacija enega algoritma, pri čemer povečujemo velikost podatkovnega seta, in vsakič shranjujemo rezultat oziroma čas izvajanja. Nato izrišemo čase izvajanja. \n",
    "\n"
   ]
  },
  {
   "cell_type": "code",
   "execution_count": 20,
   "metadata": {
    "pycharm": {
     "is_executing": false
    }
   },
   "outputs": [
    {
     "data": {
      "image/png": "[encoded data removed]",
      "text/plain": [
       "<Figure size 432x288 with 1 Axes>"
      ]
     },
     "metadata": {
      "needs_background": "light"
     },
     "output_type": "display_data"
    }
   ],
   "source": [
    "size = np.array([]); #this array will store the current dataset size\n",
    "t_insertion = np.array([]); #store processing time here\n",
    "num = 1 #evaluation repetition (keep at 1 for now)\n",
    "\n",
    "for x in range(10,1000,10): #sort from 10 to 500 items\n",
    "    data = createSet(type = None, size = x)\n",
    "    size = np.append(size, x);\n",
    "    t_insertion = np.append(t_insertion, t.timeit('insertionSort(data)','from __main__ import data, insertionSort', number = num));\n",
    "plt.figure()\n",
    "\n",
    "plt.plot(size,t_insertion);\n",
    "plt.xlabel('Size');\n",
    "plt.ylabel('Time [us]');\n",
    "plt.show();  "
   ]
  },
  {
   "cell_type": "markdown",
   "metadata": {},
   "source": [
    "### Naloga 1:\n",
    "Testiraj algoritem za različne scenarije urejenosti tipov vhodnih podatkov in komentiraj rezultate.\n"
   ]
  },
  {
   "cell_type": "code",
   "execution_count": null,
   "metadata": {},
   "outputs": [],
   "source": []
  },
  {
   "cell_type": "markdown",
   "metadata": {},
   "source": [
    "### Primerjava različnih algoritmov na istih podatkih \n",
    "\n",
    "Naslednja koda zažene tri algoritme in jih evalvira na istem setu podatkov."
   ]
  },
  {
   "cell_type": "code",
   "execution_count": 25,
   "metadata": {
    "pycharm": {
     "is_executing": false
    },
    "scrolled": true
   },
   "outputs": [
    {
     "data": {
      "image/png": "[encoded data removed]",
      "text/plain": [
       "<Figure size 432x288 with 1 Axes>"
      ]
     },
     "metadata": {
      "needs_background": "light"
     },
     "output_type": "display_data"
    }
   ],
   "source": [
    "size = np.array([]); #dataset size storage\n",
    "t_bucket = np.array([]); #bucket algorithm processing time\n",
    "t_insertion = np.array([]); #insertion algorithm processing time\n",
    "t_quick = np.array([]); #quicksort algorithm processing time\n",
    "num = 1 #evaluation repetition (keep at 1 for now)\n",
    "\n",
    "for x in range(10,1000,10):\n",
    "    data = createSet(type =1, size = x) #None for random, 1 for best, 2 for worst\n",
    "    size = np.append(size, x);\n",
    "    t_quick = np.append(t_quick, t.timeit('quicksort(data)',\"from __main__ import data,quicksort\", number = num));\n",
    "    t_insertion = np.append(t_insertion, t.timeit('insertionSort(data)','from __main__ import data, insertionSort', number = num));\n",
    "    t_bucket = np.append(t_bucket, t.timeit('bucketsort(data)','from __main__ import data,bucketsort', number = num));\n",
    "\n",
    "plt.figure()   \n",
    "plt.plot(size,t_quick,size,t_insertion,size,t_bucket);\n",
    "plt.xlabel('Size');\n",
    "plt.ylabel('Time');\n",
    "plt.legend(('Quicksort','Insertion sort','Bucket sort'),loc='upper center');\n",
    "plt.show();  "
   ]
  },
  {
   "cell_type": "markdown",
   "metadata": {
    "pycharm": {
     "is_executing": false
    }
   },
   "source": [
    "### Naloga 2: \n",
    "Izvedi simulacije s tremi zgornjimi algoritmi, na različno urejenenih vhodnih podatkih. Primerjaj hitrost algoritmov pri različno urejenenih vhodnih podatkih. Primerjavo hitrosti lahko izračunaš kot faktor hitrosti dveh algoritmov pri sortiranju 1000 števil (npr. algoritem A je 100x počasnejši od B pri 1000 naključnih podatkih). "
   ]
  },
  {
   "cell_type": "code",
   "execution_count": null,
   "metadata": {},
   "outputs": [],
   "source": []
  },
  {
   "cell_type": "markdown",
   "metadata": {},
   "source": [
    "### Naloga 3:\n",
    "Napiši kodo simulacije, s katero bomo primerjali en algoritem na treh različno urejenih vhodnih podatkih, rezultate (čase) izriši v en graf. Izdelaj grafe za vse tri algoritme, in komentiraj rezultate."
   ]
  },
  {
   "cell_type": "code",
   "execution_count": 24,
   "metadata": {},
   "outputs": [],
   "source": [
    "# Simulacija 3\n",
    "\n"
   ]
  },
  {
   "cell_type": "code",
   "execution_count": null,
   "metadata": {},
   "outputs": [],
   "source": []
  },
  {
   "cell_type": "markdown",
   "metadata": {},
   "source": [
    "### Dodatne naloge\n",
    "\n",
    "(bonus) V primerjavo algoritmov vključi še mergeSort algoritem, ter komentiraj njegovo učinkovitost v primerjavi z ostalimi. \n",
    "\n",
    "(bonus) Izdelaj dodatni sortirni algoritem in ga primerjaj z ostalimi.  (Primeri so tukaj: http://danishmujeeb.com/blog/2014/01/basic-sorting-algorithms-implemented-in-python)\n",
    "\n",
    "(bonus) V Bucket algoritmu lahko uporabimo tudi druge sortirne algoritme, izvedi simulacijo in primerjaj čas izvajanja. \n"
   ]
  },
  {
   "cell_type": "code",
   "execution_count": null,
   "metadata": {},
   "outputs": [],
   "source": []
  },
  {
   "cell_type": "code",
   "execution_count": 9,
   "metadata": {
    "pycharm": {
     "is_executing": false
    }
   },
   "outputs": [],
   "source": [
    "def mergeSort(A):\n",
    "    mergeSort2(A,0,len(A)-1)\n",
    "\n",
    "def mergeSort2(A,prvi,zadnji):\n",
    "    if prvi<zadnji:\n",
    "        srednji= (prvi+zadnji)//2\n",
    "        mergeSort2(A,prvi,srednji)\n",
    "        mergeSort2(A,srednji+1,zadnji)\n",
    "        merge(A,prvi,srednji,zadnji)\n",
    "    return A\n",
    "\n",
    "def merge(A,prvi,srednji,zadnji):\n",
    "    import sys\n",
    "    L=A[prvi:srednji+1]\n",
    "    R=A[srednji+1:zadnji+1]\n",
    "    L.append(sys.maxsize)\n",
    "    R.append(sys.maxsize)\n",
    "    i=j=0\n",
    "\n",
    "    for k in range (prvi, zadnji+1):\n",
    "        if L[i]<=R[j]:\n",
    "            A[k]=L[i]\n",
    "            i+=1\n",
    "        else:\n",
    "            A[k]=R[j]\n",
    "            j+=1"
   ]
  },
  {
   "cell_type": "code",
   "execution_count": null,
   "metadata": {
    "pycharm": {
     "is_executing": false
    }
   },
   "outputs": [],
   "source": []
  },
  {
   "cell_type": "code",
   "execution_count": null,
   "metadata": {},
   "outputs": [],
   "source": []
  },
  {
   "cell_type": "code",
   "execution_count": null,
   "metadata": {},
   "outputs": [],
   "source": []
  }
 ],
 "metadata": {
  "kernelspec": {
   "display_name": "Python 3",
   "language": "python",
   "name": "python3"
  },
  "language_info": {
   "codemirror_mode": {
    "name": "ipython",
    "version": 3
   },
   "file_extension": ".py",
   "mimetype": "text/x-python",
   "name": "python",
   "nbconvert_exporter": "python",
   "pygments_lexer": "ipython3",
   "version": "3.7.4"
  },
  "pycharm": {
   "stem_cell": {
    "cell_type": "raw",
    "metadata": {
     "collapsed": false
    },
    "source": []
   }
  }
 },
 "nbformat": 4,
 "nbformat_minor": 4
}
